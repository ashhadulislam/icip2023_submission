{
 "cells": [
  {
   "cell_type": "markdown",
   "id": "f373887d",
   "metadata": {},
   "source": [
    "### need something like below\n",
    "\n",
    "split_files/\n",
    "\n",
    "    class1/\n",
    "        images/\n",
    "            train/\n",
    "            val/\n",
    "        labels/\n",
    "            train/\n",
    "            val/\n",
    "    class2/\n",
    "        images/\n",
    "            train/\n",
    "            val/\n",
    "        labels/\n",
    "            train/\n",
    "            val/\n",
    "    ...\n",
    "            "
   ]
  },
  {
   "cell_type": "code",
   "execution_count": 30,
   "id": "ea9c74d3",
   "metadata": {},
   "outputs": [],
   "source": [
    "import os\n",
    "from sklearn.model_selection import train_test_split\n",
    "import shutil"
   ]
  },
  {
   "cell_type": "code",
   "execution_count": 31,
   "id": "00bdd06c",
   "metadata": {},
   "outputs": [
    {
     "name": "stdout",
     "output_type": "stream",
     "text": [
      "['bottle', 'bucket', 'pool', 'puddle', 'tire', 'watertank']\n"
     ]
    }
   ],
   "source": [
    "if not os.path.isdir(\"../MBG Database/split_files\"):\n",
    "    os.mkdir(\"../MBG Database/split_files\")\n",
    "    \n",
    "    \n",
    "all_annotations_path=\"../MBG Database/annotations_all/\"\n",
    "all_classes=os.listdir(all_annotations_path)\n",
    "all_classes.sort()\n",
    "\n",
    "if \".DS_Store\" in all_classes:\n",
    "    all_classes.remove(\".DS_Store\")\n",
    "print(all_classes)\n",
    "\n",
    "root_folder=\"../MBG Database/split_files\"\n",
    "for class_ in all_classes:\n",
    "    if not os.path.isdir(root_folder+\"/\"+class_):\n",
    "        os.mkdir(root_folder+\"/\"+class_)\n",
    "        \n",
    "    if not os.path.isdir(root_folder+\"/\"+class_+\"/images\"):\n",
    "        os.mkdir(root_folder+\"/\"+class_+\"/images\")\n",
    "    if not os.path.isdir(root_folder+\"/\"+class_+\"/images/train\"):\n",
    "        os.mkdir(root_folder+\"/\"+class_+\"/images/train\")\n",
    "    if not os.path.isdir(root_folder+\"/\"+class_+\"/images/val\"):\n",
    "        os.mkdir(root_folder+\"/\"+class_+\"/images/val\")\n",
    "\n",
    "        \n",
    "    if not os.path.isdir(root_folder+\"/\"+class_+\"/labels\"):\n",
    "        os.mkdir(root_folder+\"/\"+class_+\"/labels\")\n",
    "    if not os.path.isdir(root_folder+\"/\"+class_+\"/labels/train\"):\n",
    "        os.mkdir(root_folder+\"/\"+class_+\"/labels/train\")\n",
    "    if not os.path.isdir(root_folder+\"/\"+class_+\"/labels/val\"):\n",
    "        os.mkdir(root_folder+\"/\"+class_+\"/labels/val\")\n",
    "\n",
    "    \n",
    "    "
   ]
  },
  {
   "cell_type": "markdown",
   "id": "c1e72b01",
   "metadata": {},
   "source": [
    "### Folder creation complete"
   ]
  },
  {
   "cell_type": "markdown",
   "id": "78bc88b9",
   "metadata": {},
   "source": [
    "\n",
    "### Time to split"
   ]
  },
  {
   "cell_type": "code",
   "execution_count": 32,
   "id": "7bdf3251",
   "metadata": {},
   "outputs": [],
   "source": [
    "\n",
    "#Utility function to move images \n",
    "def move_files_to_folder(list_of_files, destination_folder):\n",
    "    for f in list_of_files:\n",
    "        # print(f,destination_folder)\n",
    "        try:\n",
    "#             print(f,destination_folder)\n",
    "            shutil.copy(f, destination_folder)\n",
    "        except:\n",
    "            pass\n",
    "            # print(f,\"Already there\")\n",
    "            # assert False"
   ]
  },
  {
   "cell_type": "code",
   "execution_count": 33,
   "id": "2ee00869",
   "metadata": {},
   "outputs": [
    {
     "name": "stdout",
     "output_type": "stream",
     "text": [
      "../MBG Database/classified_images/bottle/ ../MBG Database/annotations_all/bottle/\n",
      "1462 1462\n",
      "Number of images 1462 \n",
      "Number of annotation files 1462\n",
      "../MBG Database/classified_images/bucket/ ../MBG Database/annotations_all/bucket/\n",
      "4637 4637\n",
      "Number of images 4637 \n",
      "Number of annotation files 4637\n",
      "../MBG Database/classified_images/pool/ ../MBG Database/annotations_all/pool/\n",
      "2765 2765\n",
      "Number of images 2765 \n",
      "Number of annotation files 2765\n",
      "../MBG Database/classified_images/puddle/ ../MBG Database/annotations_all/puddle/\n",
      "234 234\n",
      "Number of images 234 \n",
      "Number of annotation files 234\n",
      "../MBG Database/classified_images/tire/ ../MBG Database/annotations_all/tire/\n",
      "5386 5386\n",
      "Number of images 5386 \n",
      "Number of annotation files 5386\n",
      "../MBG Database/classified_images/watertank/ ../MBG Database/annotations_all/watertank/\n",
      "11160 11160\n",
      "Number of images 11160 \n",
      "Number of annotation files 11160\n"
     ]
    }
   ],
   "source": [
    "for class_ in all_classes:\n",
    "\n",
    "    image_location=\"../MBG Database/classified_images/\"+class_+\"/\"\n",
    "    \n",
    "    annotation_location=\"../MBG Database/annotations_all/\"+class_+\"/\"\n",
    "    print(image_location,annotation_location)\n",
    "    print(len(os.listdir(annotation_location)),len(os.listdir(image_location)))\n",
    "    images = [os.path.join(image_location, x) for x in os.listdir(image_location)]\n",
    "    annotations = [os.path.join(annotation_location, x) for x in os.listdir(annotation_location) if x[-3:] == \"txt\"]\n",
    "    images.sort()\n",
    "    annotations.sort()\n",
    "    \n",
    "    \n",
    "    print(\"Number of images\",len(images),\"\\nNumber of annotation files\",len(annotations))\n",
    "    # Split the dataset into train-valid splits \n",
    "    train_images, val_images, train_annotations, val_annotations = train_test_split(images, annotations, test_size = 0.2, random_state = 1)\n",
    "    \n",
    "    \n",
    "    \n",
    "    # Move the splits into their folders\n",
    "    move_files_to_folder(train_images, root_folder+\"/\"+class_+\"/images/train/\")\n",
    "    move_files_to_folder(val_images, root_folder+\"/\"+class_+\"/images/val/\")\n",
    "    move_files_to_folder(train_annotations, root_folder+\"/\"+class_+\"/labels/train/\")\n",
    "    move_files_to_folder(val_annotations, root_folder+\"/\"+class_+\"/labels/val/\")\n",
    "#     break\n",
    "\n"
   ]
  },
  {
   "cell_type": "code",
   "execution_count": 34,
   "id": "aa14c377",
   "metadata": {},
   "outputs": [
    {
     "name": "stdout",
     "output_type": "stream",
     "text": [
      "bottle\n",
      "Number of train images =  1169\n",
      "Number of train annotations =  1169\n",
      "Number of val images =  293\n",
      "Number of val annotations =  293\n",
      "bucket\n",
      "Number of train images =  3709\n",
      "Number of train annotations =  3709\n",
      "Number of val images =  928\n",
      "Number of val annotations =  928\n",
      "pool\n",
      "Number of train images =  2212\n",
      "Number of train annotations =  2212\n",
      "Number of val images =  553\n",
      "Number of val annotations =  553\n",
      "puddle\n",
      "Number of train images =  187\n",
      "Number of train annotations =  187\n",
      "Number of val images =  47\n",
      "Number of val annotations =  47\n",
      "tire\n",
      "Number of train images =  4308\n",
      "Number of train annotations =  4308\n",
      "Number of val images =  1078\n",
      "Number of val annotations =  1078\n",
      "watertank\n",
      "Number of train images =  8928\n",
      "Number of train annotations =  8928\n",
      "Number of val images =  2232\n",
      "Number of val annotations =  2232\n"
     ]
    }
   ],
   "source": [
    "for class_ in all_classes:\n",
    "    print(class_)\n",
    "    print(\"Number of train images = \",len(os.listdir(root_folder+\"/\"+class_+\"/images/train/\")))\n",
    "    print(\"Number of train annotations = \",len(os.listdir(root_folder+\"/\"+class_+\"/labels/train/\")))\n",
    "\n",
    "    print(\"Number of val images = \",len(os.listdir(root_folder+\"/\"+class_+\"/images/val/\")))\n",
    "    print(\"Number of val annotations = \",len(os.listdir(root_folder+\"/\"+class_+\"/labels/val/\")))\n",
    "\n",
    "    "
   ]
  },
  {
   "cell_type": "code",
   "execution_count": null,
   "id": "68c49e0f",
   "metadata": {},
   "outputs": [],
   "source": []
  },
  {
   "cell_type": "code",
   "execution_count": null,
   "id": "2755f8bd",
   "metadata": {},
   "outputs": [],
   "source": []
  }
 ],
 "metadata": {
  "kernelspec": {
   "display_name": "torch_kuda_kernel",
   "language": "python",
   "name": "torch_kuda_kernel"
  },
  "language_info": {
   "codemirror_mode": {
    "name": "ipython",
    "version": 3
   },
   "file_extension": ".py",
   "mimetype": "text/x-python",
   "name": "python",
   "nbconvert_exporter": "python",
   "pygments_lexer": "ipython3",
   "version": "3.8.15"
  }
 },
 "nbformat": 4,
 "nbformat_minor": 5
}
