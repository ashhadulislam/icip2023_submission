{
 "cells": [
  {
   "cell_type": "code",
   "execution_count": 11,
   "id": "1e302eb2",
   "metadata": {},
   "outputs": [],
   "source": [
    "import os\n",
    "from pathlib import Path\n"
   ]
  },
  {
   "cell_type": "code",
   "execution_count": 12,
   "id": "b91c1940",
   "metadata": {},
   "outputs": [
    {
     "name": "stdout",
     "output_type": "stream",
     "text": [
      "['bottle', 'bucket', 'pool', 'puddle', 'tire', 'watertank']\n"
     ]
    }
   ],
   "source": [
    "all_annotations_path=\"../MBG Database/annotations_all/\"\n",
    "all_classes=os.listdir(all_annotations_path)\n",
    "all_classes.sort()\n",
    "\n",
    "if \".DS_Store\" in all_classes:\n",
    "    all_classes.remove(\".DS_Store\")\n",
    "print(all_classes)"
   ]
  },
  {
   "cell_type": "code",
   "execution_count": 13,
   "id": "86eadb51",
   "metadata": {},
   "outputs": [
    {
     "name": "stdout",
     "output_type": "stream",
     "text": [
      "/home/linux/Desktop/MBG Database/split_files/bottle\n",
      "train: /home/linux/Desktop/MBG Database/split_files/bottle/images/train\n",
      "val: /home/linux/Desktop/MBG Database/split_files/bottle/images/val\n",
      "nc: 1\n",
      "names: ['bottle']\n",
      "/home/linux/Desktop/MBG Database/split_files/bucket\n",
      "train: /home/linux/Desktop/MBG Database/split_files/bucket/images/train\n",
      "val: /home/linux/Desktop/MBG Database/split_files/bucket/images/val\n",
      "nc: 1\n",
      "names: ['bucket']\n",
      "/home/linux/Desktop/MBG Database/split_files/pool\n",
      "train: /home/linux/Desktop/MBG Database/split_files/pool/images/train\n",
      "val: /home/linux/Desktop/MBG Database/split_files/pool/images/val\n",
      "nc: 1\n",
      "names: ['pool']\n",
      "/home/linux/Desktop/MBG Database/split_files/puddle\n",
      "train: /home/linux/Desktop/MBG Database/split_files/puddle/images/train\n",
      "val: /home/linux/Desktop/MBG Database/split_files/puddle/images/val\n",
      "nc: 1\n",
      "names: ['puddle']\n",
      "/home/linux/Desktop/MBG Database/split_files/tire\n",
      "train: /home/linux/Desktop/MBG Database/split_files/tire/images/train\n",
      "val: /home/linux/Desktop/MBG Database/split_files/tire/images/val\n",
      "nc: 1\n",
      "names: ['tire']\n",
      "/home/linux/Desktop/MBG Database/split_files/watertank\n",
      "train: /home/linux/Desktop/MBG Database/split_files/watertank/images/train\n",
      "val: /home/linux/Desktop/MBG Database/split_files/watertank/images/val\n",
      "nc: 1\n",
      "names: ['watertank']\n"
     ]
    }
   ],
   "source": [
    "for class_ in all_classes:\n",
    "\n",
    "\n",
    "    path = Path(os.getcwd())\n",
    "    parent_path=path.parent.absolute()\n",
    "    final_data_path=os.path.join(parent_path,\"MBG Database\",\"split_files\",class_)\n",
    "    print(final_data_path)\n",
    "\n",
    "    yaml_data=\"train: \"+final_data_path+\"/images/train\\n\"\n",
    "    yaml_data+=\"val: \"+final_data_path+\"/images/val\\n\"\n",
    "    \n",
    "    rest_of_yaml_data=\"nc: 1\\nnames: ['\"+str(class_)+\"']\"\n",
    "    \n",
    "\n",
    "    yaml_data=yaml_data+rest_of_yaml_data\n",
    "    print(yaml_data)\n",
    "\n",
    "    yaml_file = open(class_+\".yaml\", \"w\")\n",
    "    n = yaml_file.write(yaml_data)\n",
    "    yaml_file.close()"
   ]
  },
  {
   "cell_type": "code",
   "execution_count": null,
   "id": "ac318a30",
   "metadata": {},
   "outputs": [],
   "source": []
  }
 ],
 "metadata": {
  "kernelspec": {
   "display_name": "torch_kuda_kernel",
   "language": "python",
   "name": "torch_kuda_kernel"
  },
  "language_info": {
   "codemirror_mode": {
    "name": "ipython",
    "version": 3
   },
   "file_extension": ".py",
   "mimetype": "text/x-python",
   "name": "python",
   "nbconvert_exporter": "python",
   "pygments_lexer": "ipython3",
   "version": "3.8.15"
  }
 },
 "nbformat": 4,
 "nbformat_minor": 5
}
